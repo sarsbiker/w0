{
 "cells": [
  {
   "cell_type": "markdown",
   "metadata": {
    "collapsed": true
   },
   "source": [
    "# 0基础如何快速学习Python\n",
    "\n",
    "## 教程背景\n",
    "使用 Jupyter Notebook ，写篇教程给六个月前的自己，教他 / 她更快上手编程：\n",
    "想象你面对未接触过 Python 的自己，你会教他 / 她如何上手编程？如何快速掌握编程基本技能？如何少走弯路？……\n",
    "结合代码示范，教会他 / 她实现数据类型、变量、函数、条件语句、循环语句等基础概念\n",
    "\n",
    "## 关于编程\n",
    "- 你跟程序员朋友的智力相差不大，不会编程，只是没有去投入学习而已。\n",
    "- 所有你在学习过程中遇到的问题都已经有人遇到过，并且都已经被解决过，可以找到答案。\n",
    "- 谷歌一下，你就知道。\n",
    "\n",
    "## 工欲善其事\n",
    "\n",
    "### 开发环境\n",
    "- 安装环境\n",
    "\n",
    "### 编辑器\n",
    "- 文本编辑器\n",
    "- atom\n",
    "- jupyter notebook\n",
    "\n",
    "### 书与文档\n",
    "- 《笨办法学Python》\n",
    "\n",
    "### GIT与GITHUB\n",
    "- github\n",
    "- github客户端\n",
    "- git\n",
    "\n",
    "## 开工\n",
    "\n",
    "### 第一行\n",
    "- 使用print()打印内容"
   ]
  },
  {
   "cell_type": "code",
   "execution_count": 1,
   "metadata": {
    "collapsed": true
   },
   "outputs": [
    {
     "name": "stdout",
     "output_type": "stream",
     "text": [
      "Hello Wolrd!\n"
     ]
    }
   ],
   "source": [
    "print('Hello Wolrd!')#注意：如果是python2，print还不是内置函数，写法为print \"Hello Wolrd!\""
   ]
  },
  {
   "cell_type": "markdown",
   "metadata": {},
   "source": [
    "### 计算器\n",
    "- Python内置了数值运算，可以拿来当计算器用"
   ]
  },
  {
   "cell_type": "code",
   "execution_count": 10,
   "metadata": {
    "collapsed": true
   },
   "outputs": [
    {
     "name": "stdout",
     "output_type": "stream",
     "text": [
      "2\n2.5\n2\n1\n"
     ]
    }
   ],
   "source": [
    "print(1 + 2 * 3 -5)\n",
    "print(5/2)#除，浮点数\n",
    "print(5//2)#整除，在p2中是/\n",
    "print(5%2)#模除取余数"
   ]
  },
  {
   "cell_type": "markdown",
   "metadata": {
    "collapsed": true
   },
   "source": [
    "### 数据类型\n",
    "- 数值int\n",
    "- 字符串str\n",
    "- 布尔值bool\n",
    "- 列表list\n",
    "- 元组tuple\n",
    "- 字典dict\n",
    "- 集合sets\n"
   ]
  },
  {
   "cell_type": "code",
   "execution_count": null,
   "metadata": {},
   "outputs": [],
   "source": [
    ""
   ]
  }
 ],
 "metadata": {
  "kernelspec": {
   "display_name": "Python 2",
   "language": "python",
   "name": "python2"
  },
  "language_info": {
   "codemirror_mode": {
    "name": "ipython",
    "version": 2.0
   },
   "file_extension": ".py",
   "mimetype": "text/x-python",
   "name": "python",
   "nbconvert_exporter": "python",
   "pygments_lexer": "ipython2",
   "version": "2.7.6"
  }
 },
 "nbformat": 4,
 "nbformat_minor": 0
}